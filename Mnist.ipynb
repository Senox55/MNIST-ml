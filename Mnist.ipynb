{
 "cells": [
  {
   "cell_type": "code",
   "execution_count": 1,
   "id": "344ee3b4-e6c4-4621-86b0-de72bcd787fb",
   "metadata": {},
   "outputs": [
    {
     "name": "stderr",
     "output_type": "stream",
     "text": [
      "/root/anaconda3/envs/pytorch/lib/python3.10/site-packages/torchvision/io/image.py:13: UserWarning: Failed to load image Python extension: 'libc10_cuda.so: cannot open shared object file: No such file or directory'If you don't plan on using image functionality from `torchvision.io`, you can ignore this warning. Otherwise, there might be something wrong with your environment. Did you have `libjpeg` or `libpng` installed before building `torchvision` from source?\n",
      "  warn(\n"
     ]
    }
   ],
   "source": [
    "import torch\n",
    "from torch.utils.data import Dataset, DataLoader\n",
    "from torchvision import datasets\n",
    "from torchvision.transforms import ToTensor\n",
    "import matplotlib.pyplot as plt\n",
    "from IPython.display import clear_output"
   ]
  },
  {
   "cell_type": "markdown",
   "id": "7f29f2f8-f464-4f8e-9020-533a73e8cce0",
   "metadata": {},
   "source": [
    "## Импортируем датасет MNIST"
   ]
  },
  {
   "cell_type": "code",
   "execution_count": 2,
   "id": "bd7bb73c-a8fe-411e-9a32-f147a67719fc",
   "metadata": {},
   "outputs": [],
   "source": [
    "training_data = datasets.MNIST(\n",
    "    root='data',\n",
    "    train=True,\n",
    "    download=True,\n",
    "    transform=ToTensor(),\n",
    ")\n",
    "\n",
    "test_data = datasets.MNIST(\n",
    "    root='data',\n",
    "    train=False,\n",
    "    download=True,\n",
    "    transform=ToTensor(),\n",
    ")"
   ]
  },
  {
   "cell_type": "markdown",
   "id": "a024119d-449d-418f-afc8-0c07d502e94f",
   "metadata": {},
   "source": [
    "## Визуализуруем данные"
   ]
  },
  {
   "cell_type": "code",
   "execution_count": 3,
   "id": "832fc25d-7808-4941-abb2-06f77c876df7",
   "metadata": {
    "scrolled": true
   },
   "outputs": [
    {
     "data": {
      "image/png": "[encoded data removed]",
      "text/plain": [
       "<Figure size 800x800 with 9 Axes>"
      ]
     },
     "metadata": {},
     "output_type": "display_data"
    }
   ],
   "source": [
    "figure = plt.figure(figsize=(8, 8))\n",
    "cols, rows = 3, 3\n",
    "for i in range(1, cols * rows + 1):\n",
    "    sample_idx = torch.randint(len(training_data), size = (1,)).item()\n",
    "    img, label = training_data[sample_idx]\n",
    "    figure.add_subplot(rows, cols, i)\n",
    "    plt.title(label)\n",
    "    plt.axis('off')\n",
    "    plt.imshow(img.squeeze(), cmap=\"gray\")\n",
    "plt.show()"
   ]
  },
  {
   "cell_type": "markdown",
   "id": "5f78ef70-b5a1-461c-aa29-8751e273d97e",
   "metadata": {},
   "source": [
    "## Создаем DataLoders"
   ]
  },
  {
   "cell_type": "code",
   "execution_count": 4,
   "id": "2d5eac59-c4c8-4a37-bf3f-c3d889e747cd",
   "metadata": {},
   "outputs": [],
   "source": [
    "train_dataloader = DataLoader(training_data, batch_size=64, shuffle=True)\n",
    "test_dataloader = DataLoader(test_data, batch_size=64, shuffle=True)"
   ]
  },
  {
   "cell_type": "code",
   "execution_count": 5,
   "id": "fc8570c3-601b-4df7-a9b6-d241a75db2cc",
   "metadata": {},
   "outputs": [
    {
     "name": "stdout",
     "output_type": "stream",
     "text": [
      "Feature batch shape: torch.Size([64, 1, 28, 28])\n",
      "Labels batch shape: torch.Size([64])\n"
     ]
    },
    {
     "data": {
      "image/png": "[encoded data removed]",
      "text/plain": [
       "<Figure size 640x480 with 1 Axes>"
      ]
     },
     "metadata": {},
     "output_type": "display_data"
    },
    {
     "name": "stdout",
     "output_type": "stream",
     "text": [
      "Label: 4\n"
     ]
    }
   ],
   "source": [
    "# display image and labels\n",
    "train_features, train_labels = next(iter(train_dataloader))\n",
    "print(f\"Feature batch shape: {train_features.size()}\")\n",
    "print(f\"Labels batch shape: {train_labels.size()}\")\n",
    "img = train_features[0].squeeze()\n",
    "label = train_labels[0]\n",
    "plt.imshow(img, cmap=\"gray\")\n",
    "plt.show()\n",
    "print(f\"Label: {label}\")"
   ]
  },
  {
   "cell_type": "markdown",
   "id": "cd83557a-0ef7-48fe-9a8a-f8e786aec6d8",
   "metadata": {},
   "source": [
    "## Создаем модель"
   ]
  },
  {
   "cell_type": "code",
   "execution_count": 6,
   "id": "8aa42ad4-a501-4c86-9b1f-f0042816c241",
   "metadata": {},
   "outputs": [],
   "source": [
    "from torch import nn"
   ]
  },
  {
   "cell_type": "code",
   "execution_count": 7,
   "id": "211662d2-629a-4503-8dee-7ac24ba6e61e",
   "metadata": {},
   "outputs": [],
   "source": [
    "class NeuralNetwork(nn.Module):\n",
    "    def __init__(self):\n",
    "        super().__init__()\n",
    "        self.flatten = nn.Flatten()\n",
    "        self.linear_relu_stack = nn.Sequential(\n",
    "            nn.Linear(28*28, 512),\n",
    "            nn.ReLU(),\n",
    "            nn.Linear(512, 512),\n",
    "            nn.ReLU(),\n",
    "            nn.Linear(512, 10)\n",
    "        )\n",
    "\n",
    "    def forward(self, x):\n",
    "        x = self.flatten(x)\n",
    "        logits = self.linear_relu_stack(x)\n",
    "        return logits"
   ]
  },
  {
   "cell_type": "code",
   "execution_count": 8,
   "id": "79d7e7c0-9507-4a2b-9c97-efc0f46495f7",
   "metadata": {},
   "outputs": [
    {
     "name": "stdout",
     "output_type": "stream",
     "text": [
      "NeuralNetwork(\n",
      "  (flatten): Flatten(start_dim=1, end_dim=-1)\n",
      "  (linear_relu_stack): Sequential(\n",
      "    (0): Linear(in_features=784, out_features=512, bias=True)\n",
      "    (1): ReLU()\n",
      "    (2): Linear(in_features=512, out_features=512, bias=True)\n",
      "    (3): ReLU()\n",
      "    (4): Linear(in_features=512, out_features=10, bias=True)\n",
      "  )\n",
      ")\n"
     ]
    }
   ],
   "source": [
    "model = NeuralNetwork()\n",
    "print(model)"
   ]
  },
  {
   "cell_type": "markdown",
   "id": "e5c98485-644b-45ae-854f-4a126aded7fe",
   "metadata": {},
   "source": [
    "## Инициализируем гиперпараметры"
   ]
  },
  {
   "cell_type": "code",
   "execution_count": 50,
   "id": "96edc5a8-fa4a-4ef3-9573-747cf5090528",
   "metadata": {},
   "outputs": [],
   "source": [
    "learning_rate = 1e-3\n",
    "batch_size = 64\n",
    "epochs = 20"
   ]
  },
  {
   "cell_type": "markdown",
   "id": "6be4ef5e-686d-4940-b515-2d9f74171b5b",
   "metadata": {},
   "source": [
    "## Задаем функию потерь"
   ]
  },
  {
   "cell_type": "code",
   "execution_count": 51,
   "id": "30478fa3-9811-4bae-9cfb-389bc44b4101",
   "metadata": {},
   "outputs": [],
   "source": [
    "loss_fn = nn.CrossEntropyLoss()"
   ]
  },
  {
   "cell_type": "markdown",
   "id": "b3b3a9a7-2d00-435d-a04a-bbf70f758467",
   "metadata": {},
   "source": [
    "## Функция оптимизации"
   ]
  },
  {
   "cell_type": "code",
   "execution_count": 52,
   "id": "d5b00b4a-09cb-47dc-b6f0-204edb63709c",
   "metadata": {},
   "outputs": [],
   "source": [
    "optimizer = torch.optim.SGD(model.parameters(), lr=learning_rate)"
   ]
  },
  {
   "cell_type": "markdown",
   "id": "571f610b-84c7-4918-a682-85d86880d7b6",
   "metadata": {},
   "source": [
    "## Циклы обучения и проверки"
   ]
  },
  {
   "cell_type": "code",
   "execution_count": 53,
   "id": "c2907f71-500d-45ed-abde-04afa8e48e4a",
   "metadata": {},
   "outputs": [],
   "source": [
    "def train_loop(dataloader, model, loss_fn, optimizer):\n",
    "    size = len(dataloader.dataset)\n",
    "    model.train()\n",
    "    for batch, (X, y) in enumerate(dataloader):\n",
    "        pred = model(X)\n",
    "        loss = loss_fn(pred, y)\n",
    "\n",
    "        loss.backward()\n",
    "        optimizer.step()\n",
    "        optimizer.zero_grad()\n",
    "        \n",
    "        if batch % 100 == 0:\n",
    "           loss, current = loss.item(), batch * batch_size + len(X)\n",
    "           print(f\"Loss: {loss:>7f} [{current:>5d}/{size:>5d}]\\n\")\n",
    "\n",
    "test_losses = []\n",
    "def test_loop(dataloader, model, loss_fn):\n",
    "    model.eval()\n",
    "    size = len(dataloader.dataset)\n",
    "    num_batches = len(dataloader)\n",
    "    test_loss, correct = 0, 0\n",
    "\n",
    "    with torch.no_grad():\n",
    "        for X, y in dataloader:\n",
    "            pred = model(X)\n",
    "            test_loss += loss_fn(pred, y).item()\n",
    "            correct += (pred.argmax(1) == y).type(torch.float).sum().item()\n",
    "            \n",
    "        test_loss /= num_batches\n",
    "        correct /= size\n",
    "        test_losses.append(test_loss)\n",
    "        \n",
    "    clear_output(wait=True)\n",
    "    plt.plot(test_losses)\n",
    "    plt.xlabel('Epoch')\n",
    "    plt.ylabel('Avg Loss')\n",
    "    plt.show()\n",
    "\n",
    "    print(f\"Accurasy: {(100 * correct):>0.1f}%, Avg loss: {test_loss:>8f} \\n\")"
   ]
  },
  {
   "cell_type": "markdown",
   "id": "6eeaff6c-12c7-4c23-9513-189f4c793705",
   "metadata": {},
   "source": [
    "## Обучение"
   ]
  },
  {
   "cell_type": "code",
   "execution_count": null,
   "id": "332fbda2-6dda-4a73-80ff-f43f69150db5",
   "metadata": {},
   "outputs": [
    {
     "data": {
      "image/png": "[encoded data removed]",
      "text/plain": [
       "<Figure size 640x480 with 1 Axes>"
      ]
     },
     "metadata": {},
     "output_type": "display_data"
    },
    {
     "name": "stdout",
     "output_type": "stream",
     "text": [
      "Accurasy: 92.0%, Avg loss: 0.274739 \n",
      "\n",
      "Epoch: 13\n",
      "-------------------------------------\n",
      "Loss: 0.462469 [   64/60000]\n",
      "\n",
      "Loss: 0.472775 [ 6464/60000]\n",
      "\n",
      "Loss: 0.345641 [12864/60000]\n",
      "\n",
      "Loss: 0.326644 [19264/60000]\n",
      "\n",
      "Loss: 0.391381 [25664/60000]\n",
      "\n",
      "Loss: 0.250174 [32064/60000]\n",
      "\n",
      "Loss: 0.212195 [38464/60000]\n",
      "\n",
      "Loss: 0.208032 [44864/60000]\n",
      "\n",
      "Loss: 0.323133 [51264/60000]\n",
      "\n"
     ]
    }
   ],
   "source": [
    "for t in range(1, epochs + 1):\n",
    "    print(f\"Epoch: {t}\\n-------------------------------------\")\n",
    "    train_loop(train_dataloader, model, loss_fn, optimizer)\n",
    "    test_loop(test_dataloader, model, loss_fn)\n",
    "    if t % 10 == 0:\n",
    "        torch.save(model.state_dict(), 'model_weights.pth')"
   ]
  },
  {
   "cell_type": "markdown",
   "id": "af58c961-4e6a-409c-b66d-1419db16b24a",
   "metadata": {},
   "source": [
    "## Ручная проверка модели"
   ]
  },
  {
   "cell_type": "code",
   "execution_count": null,
   "id": "257bd72b-dde1-4405-8d9c-370463472a9d",
   "metadata": {},
   "outputs": [],
   "source": [
    "saved_weights = torch.load('model_weights.pth')\n",
    "model.load_state_dict(saved_weights)\n",
    "model.eval()"
   ]
  },
  {
   "cell_type": "code",
   "execution_count": null,
   "id": "065fcfba-8534-4ee4-a67e-23cf26f4f146",
   "metadata": {},
   "outputs": [],
   "source": [
    "sample_idx = torch.randint(len(test_data), size=(1,)).item()\n",
    "random_img, label = test_data[sample_idx]\n",
    "plt.imshow(random_img.squeeze(), cmap='gray')\n",
    "print(f\"Predicted label: {model(random_img).argmax(1).sum()}, True lable: {label}\")"
   ]
  },
  {
   "cell_type": "code",
   "execution_count": null,
   "id": "4f1aba4d-e4f3-460e-b0ee-f7367bfcfa69",
   "metadata": {},
   "outputs": [],
   "source": []
  }
 ],
 "metadata": {
  "kernelspec": {
   "display_name": "Python 3 (ipykernel)",
   "language": "python",
   "name": "python3"
  },
  "language_info": {
   "codemirror_mode": {
    "name": "ipython",
    "version": 3
   },
   "file_extension": ".py",
   "mimetype": "text/x-python",
   "name": "python",
   "nbconvert_exporter": "python",
   "pygments_lexer": "ipython3",
   "version": "3.10.14"
  }
 },
 "nbformat": 4,
 "nbformat_minor": 5
}
