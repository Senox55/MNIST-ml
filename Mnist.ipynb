{
 "cells": [
  {
   "cell_type": "code",
   "execution_count": 19,
   "id": "344ee3b4-e6c4-4621-86b0-de72bcd787fb",
   "metadata": {},
   "outputs": [],
   "source": [
    "import torch\n",
    "from torch.utils.data import Dataset, DataLoader\n",
    "from torchvision import datasets\n",
    "from torchvision.transforms import ToTensor\n",
    "import matplotlib.pyplot as plt"
   ]
  },
  {
   "cell_type": "markdown",
   "id": "7f29f2f8-f464-4f8e-9020-533a73e8cce0",
   "metadata": {},
   "source": [
    "## Импортируем датасет MNIST"
   ]
  },
  {
   "cell_type": "code",
   "execution_count": 20,
   "id": "bd7bb73c-a8fe-411e-9a32-f147a67719fc",
   "metadata": {},
   "outputs": [],
   "source": [
    "training_data = datasets.MNIST(\n",
    "    root='data',\n",
    "    train=True,\n",
    "    download=True,\n",
    "    transform=ToTensor(),\n",
    ")\n",
    "\n",
    "test_data = datasets.MNIST(\n",
    "    root='data',\n",
    "    train=False,\n",
    "    download=True,\n",
    "    transform=ToTensor(),\n",
    ")"
   ]
  },
  {
   "cell_type": "markdown",
   "id": "a024119d-449d-418f-afc8-0c07d502e94f",
   "metadata": {},
   "source": [
    "## Визуализуруем данные"
   ]
  },
  {
   "cell_type": "code",
   "execution_count": 21,
   "id": "832fc25d-7808-4941-abb2-06f77c876df7",
   "metadata": {
    "scrolled": true
   },
   "outputs": [
    {
     "data": {
      "image/png": "[encoded data removed]",
      "text/plain": [
       "<Figure size 800x800 with 9 Axes>"
      ]
     },
     "metadata": {},
     "output_type": "display_data"
    }
   ],
   "source": [
    "figure = plt.figure(figsize=(8, 8))\n",
    "cols, rows = 3, 3\n",
    "for i in range(1, cols * rows + 1):\n",
    "    sample_idx = torch.randint(len(training_data), size = (1,)).item()\n",
    "    img, label = training_data[sample_idx]\n",
    "    figure.add_subplot(rows, cols, i)\n",
    "    plt.title(label)\n",
    "    plt.axis('off')\n",
    "    plt.imshow(img.squeeze(), cmap=\"gray\")\n",
    "plt.show()"
   ]
  },
  {
   "cell_type": "markdown",
   "id": "5f78ef70-b5a1-461c-aa29-8751e273d97e",
   "metadata": {},
   "source": [
    "## Создаем DataLoders"
   ]
  },
  {
   "cell_type": "code",
   "execution_count": 22,
   "id": "2d5eac59-c4c8-4a37-bf3f-c3d889e747cd",
   "metadata": {},
   "outputs": [],
   "source": [
    "train_dataloader = DataLoader(training_data, batch_size=64, shuffle=True)\n",
    "test_dataloader = DataLoader(test_data, batch_size=64, shuffle=True)"
   ]
  },
  {
   "cell_type": "code",
   "execution_count": 23,
   "id": "fc8570c3-601b-4df7-a9b6-d241a75db2cc",
   "metadata": {},
   "outputs": [
    {
     "name": "stdout",
     "output_type": "stream",
     "text": [
      "Feature batch shape: torch.Size([64, 1, 28, 28])\n",
      "Labels batch shape: torch.Size([64])\n"
     ]
    },
    {
     "data": {
      "image/png": "[encoded data removed]",
      "text/plain": [
       "<Figure size 640x480 with 1 Axes>"
      ]
     },
     "metadata": {},
     "output_type": "display_data"
    },
    {
     "name": "stdout",
     "output_type": "stream",
     "text": [
      "Label: 0\n"
     ]
    }
   ],
   "source": [
    "# display image and labels\n",
    "train_features, train_labels = next(iter(train_dataloader))\n",
    "print(f\"Feature batch shape: {train_features.size()}\")\n",
    "print(f\"Labels batch shape: {train_labels.size()}\")\n",
    "img = train_features[0].squeeze()\n",
    "label = train_labels[0]\n",
    "plt.imshow(img, cmap=\"gray\")\n",
    "plt.show()\n",
    "print(f\"Label: {label}\")"
   ]
  },
  {
   "cell_type": "markdown",
   "id": "cd83557a-0ef7-48fe-9a8a-f8e786aec6d8",
   "metadata": {},
   "source": [
    "## Создаем модель"
   ]
  },
  {
   "cell_type": "code",
   "execution_count": 24,
   "id": "8aa42ad4-a501-4c86-9b1f-f0042816c241",
   "metadata": {},
   "outputs": [],
   "source": [
    "from torch import nn"
   ]
  },
  {
   "cell_type": "code",
   "execution_count": 25,
   "id": "211662d2-629a-4503-8dee-7ac24ba6e61e",
   "metadata": {},
   "outputs": [],
   "source": [
    "class NeuralNetwork(nn.Module):\n",
    "    def __init__(self):\n",
    "        super().__init__()\n",
    "        self.flatten = nn.Flatten()\n",
    "        self.linear_relu_stack = nn.Sequential(\n",
    "            nn.Linear(28*28, 512),\n",
    "            nn.ReLU(),\n",
    "            nn.Linear(512, 512),\n",
    "            nn.ReLU(),\n",
    "            nn.Linear(512, 10)\n",
    "        )\n",
    "\n",
    "    def forward(self, x):\n",
    "        x = self.flatten(x)\n",
    "        logits = self.linear_relu_stack(x)\n",
    "        return logits"
   ]
  },
  {
   "cell_type": "code",
   "execution_count": 26,
   "id": "79d7e7c0-9507-4a2b-9c97-efc0f46495f7",
   "metadata": {},
   "outputs": [
    {
     "name": "stdout",
     "output_type": "stream",
     "text": [
      "NeuralNetwork(\n",
      "  (flatten): Flatten(start_dim=1, end_dim=-1)\n",
      "  (linear_relu_stack): Sequential(\n",
      "    (0): Linear(in_features=784, out_features=512, bias=True)\n",
      "    (1): ReLU()\n",
      "    (2): Linear(in_features=512, out_features=512, bias=True)\n",
      "    (3): ReLU()\n",
      "    (4): Linear(in_features=512, out_features=10, bias=True)\n",
      "  )\n",
      ")\n"
     ]
    }
   ],
   "source": [
    "model = NeuralNetwork()\n",
    "print(model)"
   ]
  },
  {
   "cell_type": "markdown",
   "id": "e5c98485-644b-45ae-854f-4a126aded7fe",
   "metadata": {},
   "source": [
    "## Инициализируем гиперпараметры"
   ]
  },
  {
   "cell_type": "code",
   "execution_count": 27,
   "id": "96edc5a8-fa4a-4ef3-9573-747cf5090528",
   "metadata": {},
   "outputs": [],
   "source": [
    "learning_rate = 1e-3\n",
    "batch_size = 64\n",
    "epochs = 3"
   ]
  },
  {
   "cell_type": "markdown",
   "id": "6be4ef5e-686d-4940-b515-2d9f74171b5b",
   "metadata": {},
   "source": [
    "## Задаем функию потерь"
   ]
  },
  {
   "cell_type": "code",
   "execution_count": 28,
   "id": "30478fa3-9811-4bae-9cfb-389bc44b4101",
   "metadata": {},
   "outputs": [],
   "source": [
    "loss_fn = nn.CrossEntropyLoss()"
   ]
  },
  {
   "cell_type": "markdown",
   "id": "b3b3a9a7-2d00-435d-a04a-bbf70f758467",
   "metadata": {},
   "source": [
    "## Функция оптимизации"
   ]
  },
  {
   "cell_type": "code",
   "execution_count": 29,
   "id": "d5b00b4a-09cb-47dc-b6f0-204edb63709c",
   "metadata": {},
   "outputs": [],
   "source": [
    "optimizer = torch.optim.SGD(model.parameters(), lr=learning_rate)"
   ]
  },
  {
   "cell_type": "markdown",
   "id": "571f610b-84c7-4918-a682-85d86880d7b6",
   "metadata": {},
   "source": [
    "## Циклы обучения и проверки"
   ]
  },
  {
   "cell_type": "code",
   "execution_count": 30,
   "id": "c2907f71-500d-45ed-abde-04afa8e48e4a",
   "metadata": {},
   "outputs": [],
   "source": [
    "def train_loop(dataloader, model, loss_fn, optimizer):\n",
    "    size = len(dataloader.dataset)\n",
    "    model.train()\n",
    "    for batch, (X, y) in enumerate(dataloader):\n",
    "        pred = model(X)\n",
    "        loss = loss_fn(pred, y)\n",
    "\n",
    "        loss.backward()\n",
    "        optimizer.step()\n",
    "        optimizer.zero_grad()\n",
    "        \n",
    "        if batch % 100 == 0:\n",
    "           loss, current = loss.item(), batch * batch_size + len(X)\n",
    "           print(f\"Loss: {loss:>7f} [{current:>5d}/{size:>5d}]\\n\")\n",
    "\n",
    "test_losses = []\n",
    "def test_loop(dataloader, model, loss_fn):\n",
    "    model.eval()\n",
    "    size = len(dataloader.dataset)\n",
    "    num_batches = len(dataloader)\n",
    "    test_loss, correct = 0, 0\n",
    "\n",
    "    with torch.no_grad():\n",
    "        for X, y in dataloader:\n",
    "            pred = model(X)\n",
    "            test_loss += loss_fn(pred, y).item()\n",
    "            correct += (pred.argmax(1) == y).type(torch.float).sum().item()\n",
    "        test_loss /= num_batches\n",
    "        correct /= size\n",
    "        test_losses.append(test_loss)\n",
    "    plt.plot(test_losses)\n",
    "    plt.show()\n",
    "\n",
    "    print(f\"Accurasy: {(100 * correct):>0.1f}%, Avg loss: {test_loss:>8f} \\n\")"
   ]
  },
  {
   "cell_type": "markdown",
   "id": "6eeaff6c-12c7-4c23-9513-189f4c793705",
   "metadata": {},
   "source": [
    "## Обучение"
   ]
  },
  {
   "cell_type": "code",
   "execution_count": 31,
   "id": "332fbda2-6dda-4a73-80ff-f43f69150db5",
   "metadata": {},
   "outputs": [
    {
     "name": "stdout",
     "output_type": "stream",
     "text": [
      "Epoch: 1\n",
      "-------------------------------------\n",
      "Loss: 2.301431 [   64/60000]\n",
      "\n",
      "Loss: 2.294386 [ 6464/60000]\n",
      "\n",
      "Loss: 2.291845 [12864/60000]\n",
      "\n",
      "Loss: 2.290457 [19264/60000]\n",
      "\n",
      "Loss: 2.292894 [25664/60000]\n",
      "\n",
      "Loss: 2.279380 [32064/60000]\n",
      "\n",
      "Loss: 2.266787 [38464/60000]\n",
      "\n",
      "Loss: 2.270327 [44864/60000]\n",
      "\n",
      "Loss: 2.270796 [51264/60000]\n",
      "\n",
      "Loss: 2.254560 [57664/60000]\n",
      "\n"
     ]
    },
    {
     "data": {
      "image/png": "[encoded data removed]",
      "text/plain": [
       "<Figure size 640x480 with 1 Axes>"
      ]
     },
     "metadata": {},
     "output_type": "display_data"
    },
    {
     "name": "stdout",
     "output_type": "stream",
     "text": [
      "Accurasy: 51.0%, Avg loss: 2.259595 \n",
      "\n",
      "Epoch: 2\n",
      "-------------------------------------\n",
      "Loss: 2.253078 [   64/60000]\n",
      "\n",
      "Loss: 2.250039 [ 6464/60000]\n",
      "\n",
      "Loss: 2.255463 [12864/60000]\n",
      "\n",
      "Loss: 2.241268 [19264/60000]\n",
      "\n",
      "Loss: 2.248288 [25664/60000]\n",
      "\n",
      "Loss: 2.221210 [32064/60000]\n",
      "\n",
      "Loss: 2.231810 [38464/60000]\n",
      "\n",
      "Loss: 2.215942 [44864/60000]\n",
      "\n",
      "Loss: 2.191889 [51264/60000]\n",
      "\n",
      "Loss: 2.198523 [57664/60000]\n",
      "\n"
     ]
    },
    {
     "data": {
      "image/png": "[encoded data removed]",
      "text/plain": [
       "<Figure size 640x480 with 1 Axes>"
      ]
     },
     "metadata": {},
     "output_type": "display_data"
    },
    {
     "name": "stdout",
     "output_type": "stream",
     "text": [
      "Accurasy: 62.9%, Avg loss: 2.198599 \n",
      "\n",
      "Epoch: 3\n",
      "-------------------------------------\n",
      "Loss: 2.212246 [   64/60000]\n",
      "\n",
      "Loss: 2.195066 [ 6464/60000]\n",
      "\n",
      "Loss: 2.194250 [12864/60000]\n",
      "\n",
      "Loss: 2.165065 [19264/60000]\n",
      "\n",
      "Loss: 2.178812 [25664/60000]\n",
      "\n",
      "Loss: 2.148769 [32064/60000]\n",
      "\n",
      "Loss: 2.146835 [38464/60000]\n",
      "\n",
      "Loss: 2.128902 [44864/60000]\n",
      "\n",
      "Loss: 2.115072 [51264/60000]\n",
      "\n",
      "Loss: 2.104493 [57664/60000]\n",
      "\n"
     ]
    },
    {
     "data": {
      "image/png": "[encoded data removed]",
      "text/plain": [
       "<Figure size 640x480 with 1 Axes>"
      ]
     },
     "metadata": {},
     "output_type": "display_data"
    },
    {
     "name": "stdout",
     "output_type": "stream",
     "text": [
      "Accurasy: 67.8%, Avg loss: 2.093562 \n",
      "\n"
     ]
    }
   ],
   "source": [
    "for t in range(epochs):\n",
    "    print(f\"Epoch: {t+1}\\n-------------------------------------\")\n",
    "    train_loop(train_dataloader, model, loss_fn, optimizer)\n",
    "    test_loop(test_dataloader, model, loss_fn)"
   ]
  },
  {
   "cell_type": "code",
   "execution_count": null,
   "id": "145cee5d-d6de-4ae9-836d-1ff51ed15632",
   "metadata": {},
   "outputs": [],
   "source": []
  },
  {
   "cell_type": "code",
   "execution_count": null,
   "id": "257bd72b-dde1-4405-8d9c-370463472a9d",
   "metadata": {},
   "outputs": [],
   "source": []
  },
  {
   "cell_type": "code",
   "execution_count": null,
   "id": "9360b6c0-6b65-4d98-8536-fb61ba40f1ea",
   "metadata": {},
   "outputs": [],
   "source": []
  }
 ],
 "metadata": {
  "kernelspec": {
   "display_name": "Python 3 (ipykernel)",
   "language": "python",
   "name": "python3"
  },
  "language_info": {
   "codemirror_mode": {
    "name": "ipython",
    "version": 3
   },
   "file_extension": ".py",
   "mimetype": "text/x-python",
   "name": "python",
   "nbconvert_exporter": "python",
   "pygments_lexer": "ipython3",
   "version": "3.10.14"
  }
 },
 "nbformat": 4,
 "nbformat_minor": 5
}
